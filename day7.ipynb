{
 "cells": [
  {
   "attachments": {},
   "cell_type": "markdown",
   "metadata": {},
   "source": [
    "Given two strings s and t, *determine if they are isomorphic*.\n",
    "\n",
    "Two strings s and t are isomorphic if the characters in s can be replaced to get t.\n",
    "\n",
    "All occurrences of a character must be replaced with another character while preserving the order of characters. No two characters may map to the same character, but a character may map to itself."
   ]
  },
  {
   "cell_type": "code",
   "execution_count": 1,
   "metadata": {},
   "outputs": [
    {
     "data": {
      "text/plain": [
       "True"
      ]
     },
     "execution_count": 1,
     "metadata": {},
     "output_type": "execute_result"
    }
   ],
   "source": [
    "def isomorphic(s, t):\n",
    "    if len(s) != len(t):\n",
    "        return False\n",
    "\n",
    "    char_map = {}\n",
    "    used_chars = set()\n",
    "\n",
    "    for i in range(len(s)):\n",
    "        char_s = s[i]\n",
    "        char_t = t[i]\n",
    "\n",
    "        if char_s in char_map:\n",
    "            if char_map[char_s] != char_t:\n",
    "                return False\n",
    "        else:\n",
    "            if char_t in used_chars:\n",
    "                return False\n",
    "\n",
    "            char_map[char_s] = char_t\n",
    "            used_chars.add(char_t)\n",
    "\n",
    "    return True\n",
    "s1=input('enter string 1')\n",
    "s2=input('enter string 2')\n",
    "isomorphic(s1,s2)\n"
   ]
  },
  {
   "attachments": {},
   "cell_type": "markdown",
   "metadata": {},
   "source": [
    "Given a string num which represents an integer, return true *if* num *is a **strobogrammatic number***.\n",
    "\n",
    "A **strobogrammatic number** is a number that looks the same when rotated 180 degrees (looked at upside down)."
   ]
  },
  {
   "cell_type": "code",
   "execution_count": 3,
   "metadata": {},
   "outputs": [
    {
     "data": {
      "text/plain": [
       "True"
      ]
     },
     "execution_count": 3,
     "metadata": {},
     "output_type": "execute_result"
    }
   ],
   "source": [
    "def strobogrammatic(num):\n",
    "    # Define the strobogrammatic pairs\n",
    "    pairs = {'0': '0', '1': '1', '6': '9', '8': '8', '9': '6'}\n",
    "\n",
    "    # Initialize pointers at the start and end of the string\n",
    "    left, right = 0, len(num) - 1\n",
    "\n",
    "    while left <= right:\n",
    "        # Check if the characters at the pointers are valid strobogrammatic pairs\n",
    "        if num[left] not in pairs or num[right] not in pairs:\n",
    "            return False\n",
    "\n",
    "        # Check if the characters at the pointers are the same when rotated 180 degrees\n",
    "        if pairs[num[left]] != num[right]:\n",
    "            return False\n",
    "\n",
    "        # Move the pointers inward\n",
    "        left += 1\n",
    "        right -= 1\n",
    "\n",
    "    return True\n",
    "a=(input('enter number'))\n",
    "strobogrammatic(a)\n"
   ]
  },
  {
   "attachments": {},
   "cell_type": "markdown",
   "metadata": {},
   "source": [
    "\n",
    "💡 **Question 3**\n",
    "\n",
    "Given two non-negative integers, num1 and num2 represented as string, return *the sum of* num1 *and* num2 *as a string*.\n",
    "\n",
    "You must solve the problem without using any built-in library for handling large integers (such as BigInteger). You must also not convert the inputs to integers directly.\n"
   ]
  },
  {
   "cell_type": "code",
   "execution_count": 4,
   "metadata": {},
   "outputs": [],
   "source": [
    "def addstrings(num1, num2):\n",
    "    # Initialize pointers at the end of the strings\n",
    "    i, j = len(num1) - 1, len(num2) - 1\n",
    "    carry = 0\n",
    "    result = []\n",
    "\n",
    "    # Perform addition digit by digit\n",
    "    while i >= 0 or j >= 0 or carry:\n",
    "        # Get the values of the current digits or 0 if we have reached the start of a string\n",
    "        digit1 = int(num1[i]) if i >= 0 else 0\n",
    "        digit2 = int(num2[j]) if j >= 0 else 0\n",
    "\n",
    "        # Calculate the sum of the digits and the carry\n",
    "        total = digit1 + digit2 + carry\n",
    "        carry = total // 10  # Calculate the carry\n",
    "        digit = total % 10  # Calculate the current digit\n",
    "\n",
    "        # Prepend the digit to the result list\n",
    "        result.append(str(digit))\n",
    "\n",
    "        # Move the pointers inward\n",
    "        i -= 1\n",
    "        j -= 1\n",
    "\n",
    "    # Reverse the result and join the digits into a string\n",
    "    return ''.join(result[::-1])\n",
    "a-input('enter number')\n",
    "b=input('enter another number ')\n",
    "addstrings(a,b)"
   ]
  },
  {
   "attachments": {},
   "cell_type": "markdown",
   "metadata": {},
   "source": [
    "Given a string s, reverse the order of characters in each word within a sentence while still preserving whitespace and initial word order."
   ]
  },
  {
   "cell_type": "code",
   "execution_count": 5,
   "metadata": {},
   "outputs": [
    {
     "data": {
      "text/plain": [
       "'olleh dlrow'"
      ]
     },
     "execution_count": 5,
     "metadata": {},
     "output_type": "execute_result"
    }
   ],
   "source": [
    "def reversewords(s):\n",
    "    \n",
    "    words = s.split()\n",
    "\n",
    "    reversed_words = [word[::-1] for word in words]\n",
    "    reversed_sentence = ' '.join(reversed_words)\n",
    "\n",
    "    return reversed_sentence\n",
    "s=input('enter string')\n",
    "reversewords(s)\n"
   ]
  },
  {
   "cell_type": "code",
   "execution_count": 6,
   "metadata": {},
   "outputs": [
    {
     "data": {
      "text/plain": [
       "'bacdfeg'"
      ]
     },
     "execution_count": 6,
     "metadata": {},
     "output_type": "execute_result"
    }
   ],
   "source": [
    "def reversestr(s, k):\n",
    "    # Convert the string into a list of characters\n",
    "    chars = list(s)\n",
    "    n = len(chars)\n",
    "\n",
    "    # Reverse the first k characters for every 2k characters\n",
    "    for i in range(0, n, 2*k):\n",
    "        start = i\n",
    "        end = min(i+k, n)\n",
    "        chars[start:end] = reversed(chars[start:end])\n",
    "\n",
    "    # Convert the list back to a string\n",
    "    reversed_s = ''.join(chars)\n",
    "\n",
    "    return reversed_s\n",
    "s=input('enter string')\n",
    "k=int(input('enter value of k'))\n",
    "reversestr(s,k)"
   ]
  },
  {
   "attachments": {},
   "cell_type": "markdown",
   "metadata": {},
   "source": [
    "\n",
    "Given two strings s and goal, return true *if and only if* s *can become* goal *after some number of **shifts** on* s.\n",
    "\n",
    "A **shift** on s consists of moving the leftmost character of s to the rightmost position.\n",
    "\n",
    "- For example, if s = \"abcde\", then it will be \"bcdea\" after one shift.\n"
   ]
  },
  {
   "cell_type": "code",
   "execution_count": 7,
   "metadata": {},
   "outputs": [
    {
     "data": {
      "text/plain": [
       "True"
      ]
     },
     "execution_count": 7,
     "metadata": {},
     "output_type": "execute_result"
    }
   ],
   "source": [
    "def canShift(s, goal):\n",
    "    if len(s) != len(goal):\n",
    "        return False\n",
    "    s2 = s + s\n",
    "    if goal in s2:\n",
    "        return True\n",
    "\n",
    "    return False\n",
    "s=input('enter string')\n",
    "g=input('enter goal')\n",
    "canShift(s,g)"
   ]
  },
  {
   "attachments": {},
   "cell_type": "markdown",
   "metadata": {},
   "source": [
    "Given two strings s and t, return true *if they are equal when both are typed into empty text editors*. '#' means a backspace character.\n",
    "\n",
    "Note that after backspacing an empty text, the text will continue empty."
   ]
  },
  {
   "cell_type": "code",
   "execution_count": null,
   "metadata": {},
   "outputs": [],
   "source": [
    "def equaltext(s, t):\n",
    "    def buildTypedString(string):\n",
    "        stack = []\n",
    "        for char in string:\n",
    "            if char == '#':\n",
    "                if stack:\n",
    "                    stack.pop()\n",
    "            else:\n",
    "                stack.append(char)\n",
    "        return ''.join(stack)\n",
    "\n",
    "    typed_s = buildTypedString(s)\n",
    "    typed_t = buildTypedString(t)\n",
    "\n",
    "    return typed_s == typed_t\n",
    "s = input('enter first with # as backspace')\n",
    "t = input('enter second with same ')\n",
    "result = equaltext(s, t)\n",
    "print(result)\n"
   ]
  },
  {
   "attachments": {},
   "cell_type": "markdown",
   "metadata": {},
   "source": [
    "\n",
    "💡\n",
    "\n",
    "You are given an array coordinates, coordinates[i] = [x, y], where [x, y] represents the coordinate of a point. Check if these points make a straight line in the XY plane.\n"
   ]
  },
  {
   "cell_type": "code",
   "execution_count": null,
   "metadata": {},
   "outputs": [],
   "source": [
    "def straightline(coordinates):\n",
    "    if len(coordinates) <= 2:\n",
    "        return True\n",
    "\n",
    "    x0, y0 = coordinates[0]\n",
    "    x1, y1 = coordinates[1]\n",
    "    for i in range(2, len(coordinates)):\n",
    "        x, y = coordinates[i]\n",
    "        if (y1 - y0) * (x - x0) != (x1 - x0) * (y - y0):\n",
    "            return False\n",
    "    return True\n",
    "\n",
    "n = int(input(\"Enter the number of points: \"))\n",
    "coordinates = []\n",
    "for i in range(n):\n",
    "    x = int(input(\"Enter x-coordinate for point {}: \".format(i+1)))\n",
    "    y = int(input(\"Enter y-coordinate for point {}: \".format(i+1)))\n",
    "    coordinates.append([x, y])\n",
    "\n",
    "# Check if points form a straight line\n",
    "result = straightline(coordinates)\n",
    "if result:\n",
    "    print(\"The points form a straight line.\")\n",
    "else:\n",
    "    print(\"The points do not form a straight line.\")"
   ]
  }
 ],
 "metadata": {
  "kernelspec": {
   "display_name": "base",
   "language": "python",
   "name": "python3"
  },
  "language_info": {
   "codemirror_mode": {
    "name": "ipython",
    "version": 3
   },
   "file_extension": ".py",
   "mimetype": "text/x-python",
   "name": "python",
   "nbconvert_exporter": "python",
   "pygments_lexer": "ipython3",
   "version": "3.10.9"
  },
  "orig_nbformat": 4
 },
 "nbformat": 4,
 "nbformat_minor": 2
}
