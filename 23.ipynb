{
 "cells": [
  {
   "cell_type": "markdown",
   "metadata": {},
   "source": [
    "Given preorder of a binary tree, calculate its **[depth(or height)](https://www.geeksforgeeks.org/write-a-c-program-to-find-the-maximum-depth-or-height-of-a-tree/)** [starting from depth 0]. The preorder is given as a string with two possible characters.\n",
    "\n",
    "1. ‘l’ denotes the leaf\n",
    "2. ‘n’ denotes internal node\n",
    "\n",
    "The given tree can be seen as a full binary tree where every node has 0 or two children. The two children of a node can ‘n’ or ‘l’ or mix of both.\n"
   ]
  },
  {
   "cell_type": "code",
   "execution_count": null,
   "metadata": {},
   "outputs": [],
   "source": [
    "def calculate_depth(preorder):\n",
    "    stack = []\n",
    "    depth = -1\n",
    "\n",
    "    for char in preorder:\n",
    "        if char == 'n':\n",
    "            stack.append(char)\n",
    "        elif char == 'l':\n",
    "            stack.pop()\n",
    "        depth = max(depth, len(stack))\n",
    "\n",
    "    return depth\n",
    "\n",
    "\n",
    "# Example usage\n",
    "preorder = 'nnlnll'\n",
    "depth = calculate_depth(preorder)\n",
    "print(\"Depth of the tree:\", depth)\n"
   ]
  },
  {
   "cell_type": "markdown",
   "metadata": {},
   "source": [
    "Given a Binary tree, the task is to print the left view of the Binary Tree. The left view of a Binary Tree is a set of leftmost nodes for every level."
   ]
  },
  {
   "cell_type": "code",
   "execution_count": null,
   "metadata": {},
   "outputs": [],
   "source": [
    "class TreeNode:\n",
    "    def __init__(self, value):\n",
    "        self.val = value\n",
    "        self.left = None\n",
    "        self.right = None\n",
    "\n",
    "\n",
    "def print_left_view(root):\n",
    "    if not root:\n",
    "        return\n",
    "\n",
    "    levels = {}  # Dictionary to store the leftmost node at each level\n",
    "\n",
    "    # Perform a modified preorder traversal\n",
    "    def traverse(node, level):\n",
    "        nonlocal levels\n",
    "        if level not in levels:\n",
    "            levels[level] = node.val\n",
    "\n",
    "        if node.left:\n",
    "            traverse(node.left, level + 1)\n",
    "        if node.right:\n",
    "            traverse(node.right, level + 1)\n",
    "\n",
    "    traverse(root, 0)\n",
    "\n",
    "    # Print the leftmost nodes at each level\n",
    "    for level in sorted(levels.keys()):\n",
    "        print(levels[level])\n",
    "\n",
    "\n"
   ]
  },
  {
   "cell_type": "markdown",
   "metadata": {},
   "source": [
    "Given a Binary Tree, print the Right view of it.\n",
    "\n",
    "The right view of a Binary Tree is a set of nodes visible when the tree is visited from the Right side."
   ]
  },
  {
   "cell_type": "code",
   "execution_count": null,
   "metadata": {},
   "outputs": [],
   "source": [
    "class TreeNode:\n",
    "    def __init__(self, value):\n",
    "        self.val = value\n",
    "        self.left = None\n",
    "        self.right = None\n",
    "\n",
    "\n",
    "def print_right_view(root):\n",
    "    if not root:\n",
    "        return\n",
    "\n",
    "    levels = {}  # Dictionary to store the rightmost node at each level\n",
    "\n",
    "    # Perform a modified preorder traversal\n",
    "    def traverse(node, level):\n",
    "        nonlocal levels\n",
    "        levels[level] = node.val\n",
    "\n",
    "        if node.right:\n",
    "            traverse(node.right, level + 1)\n",
    "        if node.left:\n",
    "            traverse(node.left, level + 1)\n",
    "\n",
    "    traverse(root, 0)\n",
    "\n",
    "    # Print the rightmost nodes at each level\n",
    "    for level in sorted(levels.keys()):\n",
    "        print(levels[level])\n",
    "\n",
    "\n"
   ]
  },
  {
   "cell_type": "markdown",
   "metadata": {},
   "source": [
    "<aside>\n",
    "💡 Question-4:\n",
    "\n",
    "Given a Binary Tree, The task is to print the **bottom view** from left to right. A node **x** is there in output if x is the bottommost node at its horizontal distance. The horizontal distance of the left child of a node x is equal to a horizontal distance of x minus 1, and that of a right child is the horizontal distance of x plus 1.\n",
    "\n",
    "</aside>"
   ]
  },
  {
   "cell_type": "code",
   "execution_count": null,
   "metadata": {},
   "outputs": [],
   "source": [
    "from collections import deque\n",
    "\n",
    "class TreeNode:\n",
    "    def __init__(self, value):\n",
    "        self.val = value\n",
    "        self.left = None\n",
    "        self.right = None\n",
    "\n",
    "\n",
    "def print_bottom_view(root):\n",
    "    if not root:\n",
    "        return\n",
    "\n",
    "    # Dictionary to store the bottommost node at each horizontal distance\n",
    "    bottom_view = {}\n",
    "\n",
    "    # Perform a level order traversal\n",
    "    queue = deque([(root, 0)])  # (node, horizontal distance)\n",
    "\n",
    "    while queue:\n",
    "        node, hd = queue.popleft()\n",
    "\n",
    "        # Update the bottom view with the current node\n",
    "        bottom_view[hd] = node.val\n",
    "\n",
    "        if node.left:\n",
    "            queue.append((node.left, hd - 1))\n",
    "        if node.right:\n",
    "            queue.append((node.right, hd + 1))\n",
    "\n",
    "    # Print the nodes in the bottom view\n",
    "    for hd in sorted(bottom_view.keys()):\n",
    "        print(bottom_view[hd])\n",
    "\n",
    "\n"
   ]
  }
 ],
 "metadata": {
  "language_info": {
   "name": "python"
  },
  "orig_nbformat": 4
 },
 "nbformat": 4,
 "nbformat_minor": 2
}
