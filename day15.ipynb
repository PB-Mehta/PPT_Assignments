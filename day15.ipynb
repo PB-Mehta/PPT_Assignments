{
 "cells": [
  {
   "cell_type": "markdown",
   "metadata": {},
   "source": [
    "\n",
    "Given an array arr[ ] of size N having elements, the task is to find the next greater element for each element of the array in order of their appearance in the array.Next greater element of an element in the array is the nearest element on the right which is greater than the current element.If there does not exist next greater of current element, then next greater element for current element is -1. For example, next greater of the last element is always -1."
   ]
  },
  {
   "cell_type": "code",
   "execution_count": null,
   "metadata": {},
   "outputs": [],
   "source": [
    "def find_next_greater(arr):\n",
    "    stack = []\n",
    "    result = [-1] * len(arr)\n",
    "    \n",
    "    for i in range(len(arr)-1, -1, -1):\n",
    "        while stack and stack[-1] <= arr[i]:\n",
    "            stack.pop()\n",
    "        \n",
    "        if stack:\n",
    "            result[i] = stack[-1]\n",
    "        \n",
    "        stack.append(arr[i])\n",
    "    \n",
    "    return result\n"
   ]
  },
  {
   "cell_type": "markdown",
   "metadata": {},
   "source": [
    "<aside>\n",
    "💡 **Question 2**\n",
    "\n",
    "Given an array **a** of integers of length **n**, find the nearest smaller number for every element such that the smaller element is on left side.If no small element present on the left print -1.\n",
    "\n",
    "</aside>"
   ]
  },
  {
   "cell_type": "code",
   "execution_count": null,
   "metadata": {},
   "outputs": [],
   "source": [
    "def find_nearest_smaller(a):\n",
    "    stack = []\n",
    "    result = []\n",
    "    \n",
    "    for i in range(len(a)):\n",
    "        while stack and stack[-1] >= a[i]:\n",
    "            stack.pop()\n",
    "        \n",
    "        if stack:\n",
    "            result.append(stack[-1])\n",
    "        else:\n",
    "            result.append(-1)\n",
    "        \n",
    "        stack.append(a[i])\n",
    "    \n",
    "    return result\n"
   ]
  },
  {
   "cell_type": "markdown",
   "metadata": {},
   "source": [
    "Implement a Stack using two queues q1 and q2."
   ]
  },
  {
   "cell_type": "code",
   "execution_count": null,
   "metadata": {},
   "outputs": [],
   "source": [
    "class Stack:\n",
    "    def __init__(self):\n",
    "        self.q1 = []  # Main queue\n",
    "        self.q2 = []  # Auxiliary queue\n",
    "\n",
    "    def push(self, value):\n",
    "        # Add the new element to the auxiliary queue\n",
    "        self.q2.append(value)\n",
    "        \n",
    "        # Move all elements from the main queue to the auxiliary queue\n",
    "        while self.q1:\n",
    "            self.q2.append(self.q1.pop(0))\n",
    "        \n",
    "        # Swap the names of the queues\n",
    "        self.q1, self.q2 = self.q2, self.q1\n",
    "\n",
    "    def pop(self):\n",
    "        if not self.q1:\n",
    "            return None  # Stack is empty\n",
    "        \n",
    "        # Remove and return the top element from the main queue\n",
    "        return self.q1.pop(0)\n",
    "\n",
    "    def top(self):\n",
    "        if not self.q1:\n",
    "            return None  # Stack is empty\n",
    "        \n",
    "        # Return the top element from the main queue without removing it\n",
    "        return self.q1[0]\n",
    "\n",
    "    def is_empty(self):\n",
    "        return len(self.q1) == 0\n"
   ]
  },
  {
   "cell_type": "markdown",
   "metadata": {},
   "source": [
    "<aside>\n",
    "💡 **Question 4**\n",
    "\n",
    "You are given a stack **St**. You have to reverse the stack using recursion.\n",
    "\n",
    "</aside>"
   ]
  },
  {
   "cell_type": "code",
   "execution_count": null,
   "metadata": {},
   "outputs": [],
   "source": [
    "def reverse_stack(stack):\n",
    "    if len(stack) <= 1:\n",
    "        return stack\n",
    "    \n",
    "    # Remove the top element from the stack\n",
    "    top = stack.pop()\n",
    "    \n",
    "    # Recursively reverse the remaining stack\n",
    "    reversed_stack = reverse_stack(stack)\n",
    "    \n",
    "    # Insert the removed element at the bottom of the reversed stack\n",
    "    insert_at_bottom(reversed_stack, top)\n",
    "    \n",
    "    return reversed_stack\n",
    "\n",
    "def insert_at_bottom(stack, item):\n",
    "    if len(stack) == 0:\n",
    "        stack.append(item)\n",
    "    else:\n",
    "        # Remove top element and recursively insert item at the bottom\n",
    "        temp = stack.pop()\n",
    "        insert_at_bottom(stack, item)\n",
    "        stack.append(temp)\n"
   ]
  },
  {
   "cell_type": "markdown",
   "metadata": {},
   "source": [
    "You are given a string S, the task is to reverse the string using stack."
   ]
  },
  {
   "cell_type": "code",
   "execution_count": null,
   "metadata": {},
   "outputs": [],
   "source": [
    "def reverse_string(s):\n",
    "    stack = []\n",
    "    \n",
    "    # Push each character onto the stack\n",
    "    for char in s:\n",
    "        stack.append(char)\n",
    "    \n",
    "    reversed_string = \"\"\n",
    "    \n",
    "    # Pop each character from the stack and append it to the new string\n",
    "    while stack:\n",
    "        reversed_string += stack.pop()\n",
    "    \n",
    "    return reversed_string\n"
   ]
  },
  {
   "cell_type": "markdown",
   "metadata": {},
   "source": [
    "<aside>\n",
    "💡 **Question 6**\n",
    "\n",
    "Given string **S** representing a postfix expression, the task is to evaluate the expression and find the final value. Operators will only include the basic arithmetic operators like ***, /, + and -**.\n",
    "\n",
    "</aside>"
   ]
  },
  {
   "cell_type": "code",
   "execution_count": null,
   "metadata": {},
   "outputs": [],
   "source": [
    "def evaluate_postfix(expression):\n",
    "    stack = []\n",
    "    \n",
    "    for char in expression:\n",
    "        if char.isdigit():\n",
    "            stack.append(int(char))\n",
    "        else:\n",
    "            operand2 = stack.pop()\n",
    "            operand1 = stack.pop()\n",
    "            \n",
    "            if char == '+':\n",
    "                result = operand1 + operand2\n",
    "            elif char == '-':\n",
    "                result = operand1 - operand2\n",
    "            elif char == '*':\n",
    "                result = operand1 * operand2\n",
    "            elif char == '/':\n",
    "                result = operand1 / operand2\n",
    "            \n",
    "            stack.append(result)\n",
    "    \n",
    "    return stack.pop()\n"
   ]
  },
  {
   "cell_type": "markdown",
   "metadata": {},
   "source": [
    "Design a stack that supports push, pop, top, and retrieving the minimum element in constant time."
   ]
  },
  {
   "cell_type": "code",
   "execution_count": null,
   "metadata": {},
   "outputs": [],
   "source": [
    "class MinStack:\n",
    "    def __init__(self):\n",
    "        self.stack = []  # Main stack to store elements\n",
    "        self.min_stack = []  # Auxiliary stack to store minimum elements\n",
    "\n",
    "    def push(self, value):\n",
    "        self.stack.append(value)\n",
    "        \n",
    "        # Update the minimum stack\n",
    "        if not self.min_stack or value <= self.min_stack[-1]:\n",
    "            self.min_stack.append(value)\n",
    "\n",
    "    def pop(self):\n",
    "        if not self.stack:\n",
    "            return None\n",
    "        \n",
    "        value = self.stack.pop()\n",
    "        \n",
    "        # Update the minimum stack\n",
    "        if value == self.min_stack[-1]:\n",
    "            self.min_stack.pop()\n",
    "        \n",
    "        return value\n",
    "\n",
    "    def top(self):\n",
    "        if not self.stack:\n",
    "            return None\n",
    "        \n",
    "        return self.stack[-1]\n",
    "\n",
    "    def get_min(self):\n",
    "        if not self.min_stack:\n",
    "            return None\n",
    "        \n",
    "        return self.min_stack[-1]\n"
   ]
  },
  {
   "cell_type": "markdown",
   "metadata": {},
   "source": [
    "Given n non-negative integers representing an elevation map where the width of each bar is 1, compute how much water it can trap after raining."
   ]
  },
  {
   "cell_type": "code",
   "execution_count": null,
   "metadata": {},
   "outputs": [],
   "source": [
    "def trap_water(heights):\n",
    "    left = 0\n",
    "    right = len(heights) - 1\n",
    "    left_max = right_max = water = 0\n",
    "    \n",
    "    while left <= right:\n",
    "        if heights[left] <= heights[right]:\n",
    "            if heights[left] > left_max:\n",
    "                left_max = heights[left]\n",
    "            else:\n",
    "                water += left_max - heights[left]\n",
    "            left += 1\n",
    "        else:\n",
    "            if heights[right] > right_max:\n",
    "                right_max = heights[right]\n",
    "            else:\n",
    "                water += right_max - heights[right]\n",
    "            right -= 1\n",
    "    \n",
    "    return water\n"
   ]
  }
 ],
 "metadata": {
  "language_info": {
   "name": "python"
  },
  "orig_nbformat": 4
 },
 "nbformat": 4,
 "nbformat_minor": 2
}
