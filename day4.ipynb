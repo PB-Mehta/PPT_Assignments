{
 "cells": [
  {
   "attachments": {},
   "cell_type": "markdown",
   "metadata": {},
   "source": [
    "Question 1\n",
    "Given three integer arrays arr1, arr2 and arr3 sorted in strictly increasing order, return a sorted array of only the integers that appeared in all three arrays."
   ]
  },
  {
   "cell_type": "code",
   "execution_count": 1,
   "metadata": {},
   "outputs": [
    {
     "data": {
      "text/plain": [
       "[1, 5]"
      ]
     },
     "execution_count": 1,
     "metadata": {},
     "output_type": "execute_result"
    }
   ],
   "source": [
    "def Inter(arr1, arr2, arr3):\n",
    "    i = j = k = 0\n",
    "    result = []\n",
    "\n",
    "    while i < len(arr1) and j < len(arr2) and k < len(arr3):\n",
    "        if arr1[i] == arr2[j] == arr3[k]:\n",
    "            result.append(arr1[i])\n",
    "            i += 1\n",
    "            j += 1\n",
    "            k += 1\n",
    "        elif arr1[i] < arr2[j] or arr1[i] < arr3[k]:\n",
    "            i += 1\n",
    "        elif arr2[j] < arr1[i] or arr2[j] < arr3[k]:\n",
    "            j += 1\n",
    "        else:\n",
    "            k += 1\n",
    "\n",
    "    return result\n",
    "\n",
    "\n",
    "nums1 = list(map(int, input(\"Enter the integer array1: \").split()))\n",
    "nums2 = list(map(int, input(\"Enter the integer array2: \").split()))\n",
    "nums3 = list(map(int, input(\"Enter the integer array3: \").split()))\n",
    "Inter(nums1,nums2,nums3)"
   ]
  },
  {
   "attachments": {},
   "cell_type": "markdown",
   "metadata": {},
   "source": [
    "\n",
    "💡 **Question 2**\n",
    "\n",
    "Given two **0-indexed** integer arrays nums1 and nums2, return *a list* answer *of size* 2 *where:*\n",
    "\n",
    "- answer[0] *is a list of all **distinct** integers in* nums1 *which are **not** present in* nums2*.*\n",
    "- answer[1] *is a list of all **distinct** integers in* nums2 *which are **not** present in* nums1.\n",
    "\n",
    "**Note** that the integers in the lists may be returned in **any** order.\n",
    "\n"
   ]
  },
  {
   "cell_type": "code",
   "execution_count": 2,
   "metadata": {},
   "outputs": [
    {
     "data": {
      "text/plain": [
       "[[1, 3], [4, 6]]"
      ]
     },
     "execution_count": 2,
     "metadata": {},
     "output_type": "execute_result"
    }
   ],
   "source": [
    "def Differences(nums1, nums2):\n",
    "    set1 = set(nums1)\n",
    "    set2 = set(nums2)\n",
    "\n",
    "    unique_nums1 = set1 - set2\n",
    "    unique_nums2 = set2 - set1\n",
    "\n",
    "    return [list(unique_nums1), list(unique_nums2)]\n",
    "\n",
    "arr1 = list(map(int, input(\"Enter the integer array1: \").split()))\n",
    "arr2 = list(map(int, input(\"Enter the integer array2: \").split()))\n",
    "Differences(arr1,arr2)"
   ]
  },
  {
   "attachments": {},
   "cell_type": "markdown",
   "metadata": {},
   "source": [
    "\n",
    "💡 Given a 2D integer array matrix, return *the **transpose** of* matrix.\n",
    "\n",
    "The **transpose** of a matrix is the matrix flipped over its main diagonal, switching the matrix's row and column indices.\n",
    "\n"
   ]
  },
  {
   "cell_type": "code",
   "execution_count": 3,
   "metadata": {},
   "outputs": [
    {
     "name": "stdout",
     "output_type": "stream",
     "text": [
      "Transpose of the matrix:\n",
      "[1, 4, 7]\n",
      "[2, 5, 8]\n",
      "[3, 6, 9]\n"
     ]
    }
   ],
   "source": [
    "def transpose(matrix):\n",
    "    rows = len(matrix)\n",
    "    cols = len(matrix[0])\n",
    "\n",
    "    # Create a new matrix \n",
    "    transposed = [[0 for _ in range(rows)] for _ in range(cols)]\n",
    "\n",
    "    # Fill in the transposed matrix\n",
    "    for i in range(rows):\n",
    "        for j in range(cols):\n",
    "            transposed[j][i] = matrix[i][j]\n",
    "\n",
    "    return transposed\n",
    "\n",
    "# Take input from the user\n",
    "rows = int(input(\"Enter the number of rows: \"))\n",
    "cols = int(input(\"Enter the number of columns: \"))\n",
    "\n",
    "matrix = []\n",
    "for i in range(rows):\n",
    "    row = list(map(int, input(f\"Enter the elements of row {i+1}: \").split()))\n",
    "    matrix.append(row)\n",
    "\n",
    "# Get the transpose of the matrix\n",
    "transposed_matrix = transpose(matrix)\n",
    "\n",
    "# Print the transpose\n",
    "print(\"Transpose of the matrix:\")\n",
    "for row in transposed_matrix:\n",
    "    print(row)\n"
   ]
  },
  {
   "attachments": {},
   "cell_type": "markdown",
   "metadata": {},
   "source": [
    "Question 4\n",
    "Given an integer array nums of 2n integers, group these integers into n pairs (a1, b1), (a2, b2), ..., (an, bn) such that the sum of min(ai, bi) for all i is maximized. Return the maximized sum."
   ]
  },
  {
   "cell_type": "code",
   "execution_count": 4,
   "metadata": {},
   "outputs": [
    {
     "data": {
      "text/plain": [
       "4"
      ]
     },
     "execution_count": 4,
     "metadata": {},
     "output_type": "execute_result"
    }
   ],
   "source": [
    "def arrps(nums):\n",
    "    nums.sort()  # Sort the array in ascending order\n",
    "    max_sum = 0\n",
    "    for i in range(0, len(nums), 2):\n",
    "        max_sum += nums[i]\n",
    "    return max_sum\n",
    "arr1 = list(map(int, input(\"Enter the integer array: \").split()))\n",
    "arrps(arr1)\n"
   ]
  },
  {
   "attachments": {},
   "cell_type": "markdown",
   "metadata": {},
   "source": [
    "\n",
    "💡 You have n coins and you want to build a staircase with these coins. The staircase consists of k rows where the ith row has exactly i coins. The last row of the staircase **may be** incomplete.\n",
    "\n",
    "Given the integer n, return *the number of **complete rows** of the staircase you will build*.\n"
   ]
  },
  {
   "cell_type": "code",
   "execution_count": 5,
   "metadata": {},
   "outputs": [
    {
     "name": "stdout",
     "output_type": "stream",
     "text": [
      "2\n"
     ]
    }
   ],
   "source": [
    "def arrangecoins(n):\n",
    "    left, right = 0, n\n",
    "    while left <= right:\n",
    "        mid = left + (right - left) // 2\n",
    "        curr = mid * (mid + 1) // 2  # Calculate the total number of coins in mid rows\n",
    "        if curr == n:\n",
    "            return mid\n",
    "        elif curr < n:\n",
    "            left = mid + 1\n",
    "        else:\n",
    "            right = mid - 1\n",
    "    return right  # Return the number of complete rows \n",
    "n = int(input(\"Enter the number of coins: \"))\n",
    "complete_rows = arrangecoins(n)\n",
    "print(complete_rows)\n"
   ]
  },
  {
   "cell_type": "code",
   "execution_count": 6,
   "metadata": {},
   "outputs": [
    {
     "data": {
      "text/plain": [
       "[0, 1, 9, 16, 100]"
      ]
     },
     "execution_count": 6,
     "metadata": {},
     "output_type": "execute_result"
    }
   ],
   "source": [
    "def result(nums):\n",
    "    n = len(nums)\n",
    "    result = [0] * n\n",
    "    left, right = 0, n - 1\n",
    "\n",
    "    for i in range(n - 1, -1, -1):\n",
    "        if abs(nums[left]) >= abs(nums[right]):\n",
    "            result[i] = nums[left] ** 2\n",
    "            left += 1\n",
    "        else:\n",
    "            result[i] = nums[right] ** 2\n",
    "            right -= 1\n",
    "\n",
    "    return result\n",
    "arr= list(map(int, input(\"Enter the integer array: \").split()))\n",
    "result(arr)\n"
   ]
  },
  {
   "attachments": {},
   "cell_type": "markdown",
   "metadata": {},
   "source": [
    "\n",
    "💡 **Question 7**\n",
    "You are given an m x n matrix M initialized with all 0's and an array of operations ops, where ops[i] = [ai, bi] means M[x][y] should be incremented by one for all 0 <= x < ai and 0 <= y < bi.\n",
    "\n",
    "Count and return *the number of maximum integers in the matrix after performing all the operations*\n"
   ]
  },
  {
   "cell_type": "code",
   "execution_count": 8,
   "metadata": {},
   "outputs": [
    {
     "name": "stdout",
     "output_type": "stream",
     "text": [
      "The maximum number of integers in the matrix is: 4\n"
     ]
    }
   ],
   "source": [
    "def maxCount(m, n, ops):\n",
    "    if not ops:\n",
    "        return m * n\n",
    "\n",
    "    min_row = min(op[0] for op in ops)\n",
    "    min_col = min(op[1] for op in ops)\n",
    "\n",
    "    return min_row * min_col\n",
    "m = int(input(\"Enter the number of rows: \"))\n",
    "n = int(input(\"Enter the number of columns: \"))\n",
    "\n",
    "ops = []\n",
    "num_ops = int(input(\"Enter the number of operations: \"))\n",
    "for _ in range(num_ops):\n",
    "    ai = int(input(\"Enter ai: \"))\n",
    "    bi = int(input(\"Enter bi: \"))\n",
    "    ops.append([ai, bi])\n",
    "\n",
    "result = maxCount(m, n, ops)\n",
    "print(\"The maximum number of integers in the matrix is:\", result)\n",
    "\n"
   ]
  },
  {
   "attachments": {},
   "cell_type": "markdown",
   "metadata": {},
   "source": [
    "<aside>\n",
    "💡 **Question 8**\n",
    "\n",
    "Given the array nums consisting of 2n elements in the form [x1,x2,...,xn,y1,y2,...,yn].\n",
    "\n",
    "*Return the array in the form* [x1,y1,x2,y2,...,xn,yn].\n",
    "\n",
    "</aside>"
   ]
  },
  {
   "cell_type": "code",
   "execution_count": 10,
   "metadata": {},
   "outputs": [
    {
     "name": "stdout",
     "output_type": "stream",
     "text": [
      "The shuffled array is: [2, 3, 5, 4, 1, 7]\n"
     ]
    }
   ],
   "source": [
    "def shuffle(nums, n):\n",
    "    result = []\n",
    "    for i in range(n):\n",
    "        result.append(nums[i])\n",
    "        result.append(nums[i + n])\n",
    "    return result\n",
    "n = int(input(\"Enter the value of n: \"))\n",
    "\n",
    "nums = []\n",
    "for i in range(2 * n):\n",
    "    num = int(input(\"Enter element {}: \".format(i + 1)))\n",
    "    nums.append(num)\n",
    "\n",
    "result = shuffle(nums, n)\n",
    "print(\"The shuffled array is:\", result)\n"
   ]
  },
  {
   "cell_type": "code",
   "execution_count": null,
   "metadata": {},
   "outputs": [],
   "source": []
  },
  {
   "cell_type": "code",
   "execution_count": null,
   "metadata": {},
   "outputs": [],
   "source": []
  }
 ],
 "metadata": {
  "kernelspec": {
   "display_name": "base",
   "language": "python",
   "name": "python3"
  },
  "language_info": {
   "codemirror_mode": {
    "name": "ipython",
    "version": 3
   },
   "file_extension": ".py",
   "mimetype": "text/x-python",
   "name": "python",
   "nbconvert_exporter": "python",
   "pygments_lexer": "ipython3",
   "version": "3.10.9"
  },
  "orig_nbformat": 4
 },
 "nbformat": 4,
 "nbformat_minor": 2
}
