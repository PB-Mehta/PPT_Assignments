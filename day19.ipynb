{
 "cells": [
  {
   "cell_type": "markdown",
   "metadata": {},
   "source": [
    "<aside>\n",
    "💡 1. **Merge k Sorted Lists**\n",
    "\n",
    "You are given an array of `k` linked-lists `lists`, each linked-list is sorted in ascending order.\n",
    "\n",
    "*Merge all the linked-lists into one sorted linked-list and return it.*\n",
    "\n",
    "</aside>"
   ]
  },
  {
   "cell_type": "code",
   "execution_count": null,
   "metadata": {},
   "outputs": [],
   "source": [
    "import heapq\n",
    "\n",
    "class ListNode:\n",
    "    def __init__(self, val=0, next=None):\n",
    "        self.val = val\n",
    "        self.next = next\n",
    "\n",
    "def mergeKLists(lists):\n",
    "    min_heap = []\n",
    "    for head in lists:\n",
    "        if head:\n",
    "            heapq.heappush(min_heap, (head.val, head))\n",
    "\n",
    "    dummy = ListNode()\n",
    "    curr = dummy\n",
    "\n",
    "    while min_heap:\n",
    "        _, node = heapq.heappop(min_heap)\n",
    "        curr.next = node\n",
    "        curr = curr.next\n",
    "        if node.next:\n",
    "            heapq.heappush(min_heap, (node.next.val, node.next))\n",
    "\n",
    "    return dummy.next\n"
   ]
  },
  {
   "cell_type": "markdown",
   "metadata": {},
   "source": [
    "Given an integer array nums, return an integer array counts where counts[i] is the number of smaller elements to the right of nums[i]."
   ]
  },
  {
   "cell_type": "code",
   "execution_count": null,
   "metadata": {},
   "outputs": [],
   "source": [
    "def countSmaller(nums):\n",
    "    def mergeSort(arr, start, end):\n",
    "        if start >= end:\n",
    "            return [arr[start]]\n",
    "        mid = (start + end) // 2\n",
    "        left = mergeSort(arr, start, mid)\n",
    "        right = mergeSort(arr, mid + 1, end)\n",
    "        i, j, count = 0, 0, 0\n",
    "        merged = []\n",
    "        while i < len(left) and j < len(right):\n",
    "            if left[i] <= right[j]:\n",
    "                merged.append(left[i])\n",
    "                nums[start + j] += count\n",
    "                i += 1\n",
    "            else:\n",
    "                merged.append(right[j])\n",
    "                j += 1\n",
    "                count += 1\n",
    "        merged.extend(left[i:])\n",
    "        merged.extend(right[j:])\n",
    "        return merged\n",
    "\n",
    "    nums_copy = nums.copy()\n",
    "    counts = [0] * len(nums)\n",
    "    mergeSort(nums_copy, 0, len(nums) - 1)\n",
    "    return counts\n"
   ]
  },
  {
   "cell_type": "markdown",
   "metadata": {},
   "source": [
    "Given an array of integers `nums`, sort the array in ascending order and return it.\n",
    "\n",
    "You must solve the problem **without using any built-in** functions in `O(nlog(n))` time complexity and with the smallest space complexity possible."
   ]
  },
  {
   "cell_type": "code",
   "execution_count": null,
   "metadata": {},
   "outputs": [],
   "source": [
    "def quickSort(nums):\n",
    "    def partition(start, end):\n",
    "        pivot = nums[start]  # Choose the first element as the pivot\n",
    "        low = start + 1  # Initialize the low pointer\n",
    "        high = end  # Initialize the high pointer\n",
    "\n",
    "        while True:\n",
    "            # Move low pointer to the right until finding an element greater than the pivot\n",
    "            while low <= high and nums[low] <= pivot:\n",
    "                low += 1\n",
    "\n",
    "            # Move high pointer to the left until finding an element smaller than the pivot\n",
    "            while low <= high and nums[high] >= pivot:\n",
    "                high -= 1\n",
    "\n",
    "            if low <= high:\n",
    "                # Swap the elements at low and high pointers\n",
    "                nums[low], nums[high] = nums[high], nums[low]\n",
    "            else:\n",
    "                # Break the loop if low pointer crosses the high pointer\n",
    "                break\n",
    "\n",
    "        # Swap the pivot with the element at the high pointer\n",
    "        nums[start], nums[high] = nums[high], nums[start]\n",
    "\n",
    "        # Return the index of the pivot\n",
    "        return high\n",
    "\n",
    "    def quickSortRecursive(start, end):\n",
    "        if start < end:\n",
    "            pivotIndex = partition(start, end)  # Partition the array\n",
    "            quickSortRecursive(start, pivotIndex - 1)  # Sort the left subarray\n",
    "            quickSortRecursive(pivotIndex + 1, end)  # Sort the right subarray\n",
    "\n",
    "    quickSortRecursive(0, len(nums) - 1)\n",
    "    return nums\n"
   ]
  },
  {
   "cell_type": "markdown",
   "metadata": {},
   "source": [
    "<aside>\n",
    "💡 4. **Move all zeroes to end of array**\n",
    "\n",
    "Given an array of random numbers, Push all the zero’s of a given array to the end of the array. For example, if the given arrays is {1, 9, 8, 4, 0, 0, 2, 7, 0, 6, 0}, it should be changed to {1, 9, 8, 4, 2, 7, 6, 0, 0, 0, 0}. The order of all other elements should be same. Expected time complexity is O(n) and extra space is O(1).\n",
    "\n",
    "</aside>"
   ]
  },
  {
   "cell_type": "code",
   "execution_count": null,
   "metadata": {},
   "outputs": [],
   "source": [
    "def moveZeroes(nums):\n",
    "    left = 0\n",
    "    right = len(nums) - 1\n",
    "\n",
    "    while left < right:\n",
    "        if nums[left] == 0:\n",
    "            nums[left], nums[right] = nums[right], nums[left]\n",
    "            right -= 1\n",
    "        else:\n",
    "            left += 1\n",
    "\n",
    "    return nums\n"
   ]
  },
  {
   "cell_type": "markdown",
   "metadata": {},
   "source": [
    "<aside>\n",
    "💡 5. **Rearrange array in alternating positive & negative items with O(1) extra space**\n",
    "\n",
    "Given an **array of positive** and **negative numbers**, arrange them in an **alternate** fashion such that every positive number is followed by a negative and vice-versa maintaining the **order of appearance**. The number of positive and negative numbers need not be equal. If there are more positive numbers they appear at the end of the array. If there are more negative numbers, they too appear at the end of the array.\n",
    "\n",
    "</aside>"
   ]
  },
  {
   "cell_type": "code",
   "execution_count": null,
   "metadata": {},
   "outputs": [],
   "source": [
    "def rearrange(nums):\n",
    "    n = len(nums)\n",
    "    pos = 0\n",
    "    neg = 0\n",
    "\n",
    "    while pos < n and neg < n:\n",
    "        while pos < n and nums[pos] >= 0:\n",
    "            pos += 1\n",
    "        while neg < n and nums[neg] < 0:\n",
    "            neg += 1\n",
    "\n",
    "        if pos < neg:\n",
    "            nums[pos], nums[neg] = nums[neg], nums[pos]\n",
    "            pos += 2\n",
    "            neg += 2\n",
    "        else:\n",
    "            break\n",
    "\n",
    "    return nums\n"
   ]
  },
  {
   "cell_type": "markdown",
   "metadata": {},
   "source": [
    "<aside>\n",
    "💡 **. Merge two sorted arrays**\n",
    "\n",
    "Given two sorted arrays, the task is to merge them in a sorted manner.\n",
    "\n",
    "</aside>"
   ]
  },
  {
   "cell_type": "code",
   "execution_count": null,
   "metadata": {},
   "outputs": [],
   "source": [
    "def mergeArrays(arr1, arr2):\n",
    "    merged = []\n",
    "    i, j = 0, 0\n",
    "\n",
    "    while i < len(arr1) and j < len(arr2):\n",
    "        if arr1[i] <= arr2[j]:\n",
    "            merged.append(arr1[i])\n",
    "            i += 1\n",
    "        else:\n",
    "            merged.append(arr2[j])\n",
    "            j += 1\n",
    "\n",
    "    while i < len(arr1):\n",
    "        merged.append(arr1[i])\n",
    "        i += 1\n",
    "\n",
    "    while j < len(arr2):\n",
    "        merged.append(arr2[j])\n",
    "        j += 1\n",
    "\n",
    "    return merged\n"
   ]
  },
  {
   "cell_type": "markdown",
   "metadata": {},
   "source": [
    "<aside>\n",
    "💡 7. **Intersection of Two Arrays**\n",
    "\n",
    "Given two integer arrays `nums1` and `nums2`, return *an array of their intersection*. Each element in the result must be **unique** and you may return the result in **any order**.\n",
    "\n",
    "</aside>"
   ]
  },
  {
   "cell_type": "code",
   "execution_count": null,
   "metadata": {},
   "outputs": [],
   "source": [
    "def intersection(nums1, nums2):\n",
    "    set1 = set(nums1)\n",
    "    set2 = set(nums2)\n",
    "    intersection = set()\n",
    "\n",
    "    for num in set1:\n",
    "        if num in set2:\n",
    "            intersection.add(num)\n",
    "\n",
    "    return list(intersection)\n"
   ]
  },
  {
   "cell_type": "markdown",
   "metadata": {},
   "source": [
    "<aside>\n",
    "💡 8. **Intersection of Two Arrays II**\n",
    "\n",
    "Given two integer arrays `nums1` and `nums2`, return *an array of their intersection*. Each element in the result must appear as many times as it shows in both arrays and you may return the result in **any order**.\n",
    "\n",
    "</aside>"
   ]
  },
  {
   "cell_type": "code",
   "execution_count": null,
   "metadata": {},
   "outputs": [],
   "source": [
    "def intersect(nums1, nums2):\n",
    "    frequency = {}\n",
    "    for num in nums1:\n",
    "        frequency[num] = frequency.get(num, 0) + 1\n",
    "\n",
    "    intersection = []\n",
    "    for num in nums2:\n",
    "        if num in frequency and frequency[num] > 0:\n",
    "            intersection.append(num)\n",
    "            frequency[num] -= 1\n",
    "\n",
    "    return intersection\n"
   ]
  }
 ],
 "metadata": {
  "language_info": {
   "name": "python"
  },
  "orig_nbformat": 4
 },
 "nbformat": 4,
 "nbformat_minor": 2
}
