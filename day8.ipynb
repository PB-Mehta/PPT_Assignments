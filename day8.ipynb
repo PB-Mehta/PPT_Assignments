{
 "cells": [
  {
   "attachments": {},
   "cell_type": "markdown",
   "metadata": {},
   "source": [
    "Given two strings s1 and s2, return the lowest ASCII sum of deleted characters to make two strings equal."
   ]
  },
  {
   "cell_type": "code",
   "execution_count": null,
   "metadata": {},
   "outputs": [],
   "source": [
    "def mindelete(s1, s2):\n",
    "    m, n = len(s1), len(s2)\n",
    "    # Create a 2D DP table to store the minimum ASCII sum\n",
    "    dp = [[0] * (n + 1) for _ in range(m + 1)]\n",
    "\n",
    "    # Fill the first row and first column of the DP table\n",
    "    for i in range(1, m + 1):\n",
    "        dp[i][0] = dp[i - 1][0] + ord(s1[i - 1])\n",
    "    for j in range(1, n + 1):\n",
    "        dp[0][j] = dp[0][j - 1] + ord(s2[j - 1])\n",
    "\n",
    "    # Fill the rest of the DP table\n",
    "    for i in range(1, m + 1):\n",
    "        for j in range(1, n + 1):\n",
    "            if s1[i - 1] == s2[j - 1]:\n",
    "                dp[i][j] = dp[i - 1][j - 1]\n",
    "            else:\n",
    "                dp[i][j] = min(dp[i - 1][j] + ord(s1[i - 1]), dp[i][j - 1] + ord(s2[j - 1]))\n",
    "\n",
    "    return dp[m][n]\n",
    "\n",
    "s1 = input('string one ')\n",
    "s2 = input('string second')\n",
    "result = mindelete(s1, s2)\n",
    "print(\"Lowest ASCII sum of deleted characters:\", result)\n"
   ]
  },
  {
   "attachments": {},
   "cell_type": "markdown",
   "metadata": {},
   "source": [
    "Given a string s containing only three types of characters: '(', ')' and '*', return true *if* s *is **valid***.\n",
    "\n",
    "The following rules define a **valid** string:\n",
    "\n",
    "- Any left parenthesis '(' must have a corresponding right parenthesis ')'.\n",
    "- Any right parenthesis ')' must have a corresponding left parenthesis '('.\n",
    "- Left parenthesis '(' must go before the corresponding right parenthesis ')'.\n",
    "- '*' could be treated as a single right parenthesis ')' or a single left parenthesis '(' or an empty string \"\"."
   ]
  },
  {
   "cell_type": "code",
   "execution_count": null,
   "metadata": {},
   "outputs": [],
   "source": [
    "def ValidString(s):\n",
    "    stack1 = []\n",
    "    stack2 = []\n",
    "\n",
    "    for c in s:\n",
    "        if c == '(':\n",
    "            stack1.append(c)\n",
    "        elif c == ')':\n",
    "            if stack1:\n",
    "                stack1.pop()\n",
    "            elif stack2:\n",
    "                stack2.pop()\n",
    "            else:\n",
    "                return False\n",
    "        elif c == '*':\n",
    "            stack2.append(c)\n",
    "\n",
    "    while stack1 and stack2:\n",
    "        if stack1[-1] > stack2[-1]:\n",
    "            return False\n",
    "        stack1.pop()\n",
    "        stack2.pop()\n",
    "\n",
    "    return len(stack1) == 0\n",
    "\n",
    "s = \"(*))\"\n",
    "result = ValidString(s)\n",
    "print(\"Is valid string?\", result)\n"
   ]
  },
  {
   "attachments": {},
   "cell_type": "markdown",
   "metadata": {},
   "source": [
    "Given two strings word1 and word2, return the minimum number of steps required to make word1 and word2 the same."
   ]
  },
  {
   "cell_type": "code",
   "execution_count": null,
   "metadata": {},
   "outputs": [],
   "source": [
    "def minDistance(word1, word2):\n",
    "    m, n = len(word1), len(word2)\n",
    "    dp = [[0] * (n + 1) for _ in range(m + 1)]\n",
    "\n",
    "    # Initialize first row and column\n",
    "    for i in range(m + 1):\n",
    "        dp[i][0] = i\n",
    "    for j in range(n + 1):\n",
    "        dp[0][j] = j\n",
    "\n",
    "    # Calculate edit distance\n",
    "    for i in range(1, m + 1):\n",
    "        for j in range(1, n + 1):\n",
    "            if word1[i - 1] == word2[j - 1]:\n",
    "                dp[i][j] = dp[i - 1][j - 1]\n",
    "            else:\n",
    "                dp[i][j] = min(dp[i - 1][j - 1], dp[i - 1][j], dp[i][j - 1]) + 1\n",
    "\n",
    "    return dp[m][n]\n"
   ]
  },
  {
   "attachments": {},
   "cell_type": "markdown",
   "metadata": {},
   "source": [
    "you need to construct a binary tree from a string consisting of parenthesis and integers.\n",
    "\n",
    "The whole input represents a binary tree. It contains an integer followed by zero, one or two pairs of parenthesis. The integer represents the root's value and a pair of parenthesis contains a child binary tree with the same structure.\n",
    "You always start to construct the **left** child node of the parent first if it exists."
   ]
  },
  {
   "cell_type": "code",
   "execution_count": null,
   "metadata": {},
   "outputs": [],
   "source": [
    "class TreeNode:\n",
    "    def __init__(self, val=0, left=None, right=None):\n",
    "        self.val = val\n",
    "        self.left = left\n",
    "        self.right = right\n",
    "\n",
    "def buildTree(s):\n",
    "    if not s:\n",
    "        return None\n",
    "    \n",
    "    idx = s.find('(')\n",
    "    if idx == -1:\n",
    "        return TreeNode(int(s))\n",
    "    \n",
    "    root_val = int(s[:idx])\n",
    "    root = TreeNode(root_val)\n",
    "\n",
    "    count = 0\n",
    "    left_start = idx + 1\n",
    "    for i in range(idx, len(s)):\n",
    "        if s[i] == '(':\n",
    "            count += 1\n",
    "        elif s[i] == ')':\n",
    "            count -= 1\n",
    "        if count == 0:\n",
    "            left_end = i\n",
    "            break\n",
    "    \n",
    "    left_subtree = s[left_start:left_end]\n",
    "    right_subtree = s[left_end + 2:-1] if left_end + 2 < len(s) - 1 else \"\"\n",
    "\n",
    "    root.left = buildTree(left_subtree)\n",
    "    root.right = buildTree(right_subtree)\n",
    "\n",
    "    return root\n"
   ]
  },
  {
   "attachments": {},
   "cell_type": "markdown",
   "metadata": {},
   "source": [
    "Given an array of characters chars, compress it using the following algorithm:\n",
    "\n",
    "Begin with an empty string s. For each group of **consecutive repeating characters** in chars:\n",
    "\n",
    "- If the group's length is 1, append the character to s.\n",
    "- Otherwise, append the character followed by the group's length.\n",
    "\n",
    "The compressed string s **should not be returned separately**, but instead, be stored **in the input character array chars**. Note that group lengths that are 10 or longer will be split into multiple characters in chars.\n",
    "\n",
    "After you are done **modifying the input array,** return *the new length of the array*.\n",
    "\n",
    "You must write an algorithm that uses only constant extra space."
   ]
  },
  {
   "cell_type": "code",
   "execution_count": null,
   "metadata": {},
   "outputs": [],
   "source": [
    "def compress(chars):\n",
    "    write = 0  # write pointer\n",
    "    read = 0   # read pointer\n",
    "\n",
    "    # Iterate through the array\n",
    "    while read < len(chars):\n",
    "        curr_char = chars[read]\n",
    "        count = 0\n",
    "\n",
    "        # Count consecutive occurrences\n",
    "        while read < len(chars) and chars[read] == curr_char:\n",
    "            count += 1\n",
    "            read += 1\n",
    "\n",
    "        # Write the character\n",
    "        chars[write] = curr_char\n",
    "        write += 1\n",
    "\n",
    "        # Write the count\n",
    "        if count > 1:\n",
    "            count_str = str(count)\n",
    "            for digit in count_str:\n",
    "                chars[write] = digit\n",
    "                write += 1\n",
    "\n",
    "    return write\n"
   ]
  },
  {
   "attachments": {},
   "cell_type": "markdown",
   "metadata": {},
   "source": [
    "Given two strings s and p, return *an array of all the start indices of* p*'s anagrams in* s. You may return the answer in **any order**.\n",
    "\n",
    "An **Anagram** is a word or phrase formed by rearranging the letters of a different word or phrase, typically using all the original letters exactly once."
   ]
  },
  {
   "cell_type": "code",
   "execution_count": null,
   "metadata": {},
   "outputs": [],
   "source": [
    "from collections import Counter\n",
    "\n",
    "def findAnagrams(s, p):\n",
    "    p_count = Counter(p)\n",
    "    window_count = Counter()\n",
    "    left, right = 0, 0\n",
    "    result = []\n",
    "\n",
    "    while right < len(s):\n",
    "        window_count[s[right]] += 1\n",
    "\n",
    "        if right - left + 1 > len(p):\n",
    "            window_count[s[left]] -= 1\n",
    "            if window_count[s[left]] == 0:\n",
    "                del window_count[s[left]]\n",
    "            left += 1\n",
    "\n",
    "        if window_count == p_count:\n",
    "            result.append(left)\n",
    "\n",
    "        right += 1\n",
    "\n",
    "    return result\n"
   ]
  },
  {
   "attachments": {},
   "cell_type": "markdown",
   "metadata": {},
   "source": [
    "Given an encoded string, return its decoded string.\n",
    "\n",
    "The encoding rule is: k[encoded_string], where the encoded_string inside the square brackets is being repeated exactly k times. Note that k is guaranteed to be a positive integer.\n",
    "\n",
    "You may assume that the input string is always valid; there are no extra white spaces, square brackets are well-formed, etc. Furthermore, you may assume that the original data does not contain any digits and that digits are only for those repeat numbers, k. For example, there will not be input like 3a or 2[4]."
   ]
  },
  {
   "cell_type": "code",
   "execution_count": null,
   "metadata": {},
   "outputs": [],
   "source": [
    "def decodeString(s):\n",
    "    stack = []\n",
    "\n",
    "    for char in s:\n",
    "        if char != ']':\n",
    "            stack.append(char)\n",
    "        else:\n",
    "            encoded_substr = ''\n",
    "            while stack[-1] != '[':\n",
    "                encoded_substr = stack.pop() + encoded_substr\n",
    "\n",
    "            stack.pop()  # Pop '['\n",
    "\n",
    "            count_str = ''\n",
    "            while stack and stack[-1].isdigit():\n",
    "                count_str = stack.pop() + count_str\n",
    "\n",
    "            count = int(count_str)\n",
    "            decoded_substr = encoded_substr * count\n",
    "            stack.append(decoded_substr)\n",
    "\n",
    "    return ''.join(stack[::-1])\n"
   ]
  },
  {
   "attachments": {},
   "cell_type": "markdown",
   "metadata": {},
   "source": [
    "Given two strings s and goal, return true *if you can swap two letters in* s *so the result is equal to* goal*, otherwise, return* false*.*\n",
    "\n",
    "Swapping letters is defined as taking two indices i and j (0-indexed) such that i != j and swapping the characters at s[i] and s[j]."
   ]
  },
  {
   "cell_type": "code",
   "execution_count": null,
   "metadata": {},
   "outputs": [],
   "source": [
    "def buddyStrings(s, goal):\n",
    "    if len(s) != len(goal):\n",
    "        return False\n",
    "\n",
    "    if s == goal:\n",
    "        # Check if there are at least two occurrences of the same character in s\n",
    "        counts = {}\n",
    "        for char in s:\n",
    "            if char in counts and counts[char] > 0:\n",
    "                return True\n",
    "            counts[char] = counts.get(char, 0) + 1\n",
    "        return False\n",
    "\n",
    "    # Find the mismatched characters\n",
    "    mismatches = []\n",
    "    for i in range(len(s)):\n",
    "        if s[i] != goal[i]:\n",
    "            mismatches.append(i)\n",
    "\n",
    "    # Check if there are exactly two mismatches and their positions can be swapped\n",
    "    return len(mismatches) == 2 and s[mismatches[0]] == goal[mismatches[1]] and s[mismatches[1]] == goal[mismatches[0]]\n"
   ]
  }
 ],
 "metadata": {
  "language_info": {
   "name": "python"
  },
  "orig_nbformat": 4
 },
 "nbformat": 4,
 "nbformat_minor": 2
}
