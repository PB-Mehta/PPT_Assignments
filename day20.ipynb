{
 "cells": [
  {
   "cell_type": "markdown",
   "metadata": {},
   "source": [
    "Given a binary tree, your task is to find subtree with maximum sum in tree."
   ]
  },
  {
   "cell_type": "code",
   "execution_count": null,
   "metadata": {},
   "outputs": [],
   "source": [
    "class TreeNode:\n",
    "    def __init__(self, val=0, left=None, right=None):\n",
    "        self.val = val\n",
    "        self.left = left\n",
    "        self.right = right\n",
    "\n",
    "\n",
    "def findMaxSubtreeSum(root):\n",
    "    global max_sum\n",
    "    if root is None:\n",
    "        return 0\n",
    "\n",
    "    left_sum = findMaxSubtreeSum(root.left)\n",
    "    right_sum = findMaxSubtreeSum(root.right)\n",
    "\n",
    "    current_sum = root.val + left_sum + right_sum\n",
    "    max_sum = max(max_sum, current_sum)\n",
    "\n",
    "    return current_sum\n",
    "\n",
    "\n",
    "def maxSubtreeSum(root):\n",
    "    global max_sum\n",
    "    max_sum = float('-inf')\n",
    "    findMaxSubtreeSum(root)\n",
    "    return max_sum\n"
   ]
  },
  {
   "cell_type": "markdown",
   "metadata": {},
   "source": [
    "Construct the BST (Binary Search Tree) from its given level order traversal."
   ]
  },
  {
   "cell_type": "code",
   "execution_count": null,
   "metadata": {},
   "outputs": [],
   "source": [
    "class TreeNode:\n",
    "    def __init__(self, val=0, left=None, right=None):\n",
    "        self.val = val\n",
    "        self.left = left\n",
    "        self.right = right\n",
    "\n",
    "\n",
    "def constructBST(level_order):\n",
    "    if not level_order:\n",
    "        return None\n",
    "\n",
    "    root = TreeNode(level_order[0])\n",
    "    queue = [root]\n",
    "    i = 1\n",
    "\n",
    "    while queue:\n",
    "        node = queue.pop(0)\n",
    "\n",
    "        if i < len(level_order):\n",
    "            left_val = level_order[i]\n",
    "            if left_val is not None:\n",
    "                node.left = TreeNode(left_val)\n",
    "                queue.append(node.left)\n",
    "            i += 1\n",
    "\n",
    "        if i < len(level_order):\n",
    "            right_val = level_order[i]\n",
    "            if right_val is not None:\n",
    "                node.right = TreeNode(right_val)\n",
    "                queue.append(node.right)\n",
    "            i += 1\n",
    "\n",
    "    return root\n"
   ]
  },
  {
   "cell_type": "markdown",
   "metadata": {},
   "source": [
    "Given an array of size n. The problem is to check whether the given array can represent the level order traversal of a Binary Search Tree or not."
   ]
  },
  {
   "cell_type": "code",
   "execution_count": null,
   "metadata": {},
   "outputs": [],
   "source": [
    "def isValidLevelOrder(arr):\n",
    "    if not arr:\n",
    "        return True\n",
    "\n",
    "    stack = []\n",
    "    root = float('-inf')\n",
    "\n",
    "    for num in arr[1:]:\n",
    "        if num < stack[-1]:\n",
    "            root = num\n",
    "        else:\n",
    "            while stack and num > stack[-1]:\n",
    "                popped = stack.pop()\n",
    "                if popped < root:\n",
    "                    return False\n",
    "            stack.append(num)\n",
    "\n",
    "    while stack:\n",
    "        popped = stack.pop()\n",
    "        if popped < root:\n",
    "            return False\n",
    "\n",
    "    return True\n"
   ]
  }
 ],
 "metadata": {
  "language_info": {
   "name": "python"
  },
  "orig_nbformat": 4
 },
 "nbformat": 4,
 "nbformat_minor": 2
}
