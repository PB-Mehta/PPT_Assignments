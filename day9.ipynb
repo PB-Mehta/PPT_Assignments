{
 "cells": [
  {
   "attachments": {},
   "cell_type": "markdown",
   "metadata": {},
   "source": [
    "Given an integer `n`, return *`true` if it is a power of two. Otherwise, return `false`*.\n",
    "\n",
    "An integer `n` is a power of two, if there exists an integer `x` such that `n == 2x`."
   ]
  },
  {
   "cell_type": "code",
   "execution_count": 4,
   "metadata": {},
   "outputs": [
    {
     "data": {
      "text/plain": [
       "False"
      ]
     },
     "execution_count": 4,
     "metadata": {},
     "output_type": "execute_result"
    }
   ],
   "source": [
    "def istwo(n):\n",
    "    if n <= 0:\n",
    "        return False\n",
    "    return n & (n - 1) == 0\n",
    "n=int(input('n value'))\n",
    "istwo(n)"
   ]
  },
  {
   "attachments": {},
   "cell_type": "markdown",
   "metadata": {},
   "source": [
    "Given a number n, find the sum of the first natural numbers."
   ]
  },
  {
   "cell_type": "code",
   "execution_count": null,
   "metadata": {},
   "outputs": [],
   "source": [
    "def sumOfFirstN(n):\n",
    "    return (n * (n + 1)) // 2\n"
   ]
  },
  {
   "attachments": {},
   "cell_type": "markdown",
   "metadata": {},
   "source": [
    "Given a positive integer, N. Find the factorial of N. "
   ]
  },
  {
   "cell_type": "code",
   "execution_count": null,
   "metadata": {},
   "outputs": [],
   "source": [
    "def factorial(N):\n",
    "    if N == 0:  # Base case: 0! is defined as 1\n",
    "        return 1\n",
    "\n",
    "    factorial = 1\n",
    "\n",
    "    for i in range(1, N + 1):\n",
    "        factorial *= i\n",
    "\n",
    "    return factorial\n"
   ]
  },
  {
   "attachments": {},
   "cell_type": "markdown",
   "metadata": {},
   "source": [
    "Given a number N and a power P, the task is to find the exponent of this number raised to the given power, i.e. N^P."
   ]
  },
  {
   "cell_type": "code",
   "execution_count": null,
   "metadata": {},
   "outputs": [],
   "source": [
    "def calculateExponent(N, P):\n",
    "    result = pow(N, P)\n",
    "    return result\n"
   ]
  },
  {
   "attachments": {},
   "cell_type": "markdown",
   "metadata": {},
   "source": [
    "Given an array of integers arr, the task is to find maximum element of that array using recursion."
   ]
  },
  {
   "cell_type": "code",
   "execution_count": null,
   "metadata": {},
   "outputs": [],
   "source": [
    "def findMax(arr):\n",
    "    if len(arr) == 1:\n",
    "        return arr[0]\n",
    "\n",
    "    mid = len(arr) // 2\n",
    "    left_max = findMax(arr[:mid])\n",
    "    right_max = findMax(arr[mid:])\n",
    "\n",
    "    return max(left_max, right_max)\n"
   ]
  },
  {
   "attachments": {},
   "cell_type": "markdown",
   "metadata": {},
   "source": [
    "Given first term (a), common difference (d) and a integer N of the Arithmetic Progression series, the task is to find Nth term of the series."
   ]
  },
  {
   "cell_type": "code",
   "execution_count": null,
   "metadata": {},
   "outputs": [],
   "source": [
    "def findNthTerm(a, d, n):\n",
    "    nth_term = a + (n - 1) * d\n",
    "    return nth_term\n"
   ]
  },
  {
   "attachments": {},
   "cell_type": "markdown",
   "metadata": {},
   "source": [
    "Given a string S, the task is to write a program to print all permutations of a given string."
   ]
  },
  {
   "cell_type": "code",
   "execution_count": null,
   "metadata": {},
   "outputs": [],
   "source": [
    "def permute(current, remaining, result):\n",
    "    if len(remaining) == 0:\n",
    "        result.append(current)\n",
    "    else:\n",
    "        for i in range(len(remaining)):\n",
    "            permute(current + remaining[i], remaining[:i] + remaining[i+1:], result)\n",
    "\n",
    "def printPermutations(S):\n",
    "    result = []\n",
    "    permute(\"\", S, result)\n",
    "    return result\n"
   ]
  },
  {
   "attachments": {},
   "cell_type": "markdown",
   "metadata": {},
   "source": [
    "Given an array, find a product of all array elements."
   ]
  },
  {
   "cell_type": "code",
   "execution_count": null,
   "metadata": {},
   "outputs": [],
   "source": [
    "def productOfArray(arr):\n",
    "    product = 1\n",
    "\n",
    "    for num in arr:\n",
    "        product *= num\n",
    "\n",
    "    return product\n"
   ]
  }
 ],
 "metadata": {
  "kernelspec": {
   "display_name": "base",
   "language": "python",
   "name": "python3"
  },
  "language_info": {
   "codemirror_mode": {
    "name": "ipython",
    "version": 3
   },
   "file_extension": ".py",
   "mimetype": "text/x-python",
   "name": "python",
   "nbconvert_exporter": "python",
   "pygments_lexer": "ipython3",
   "version": "3.10.9"
  },
  "orig_nbformat": 4
 },
 "nbformat": 4,
 "nbformat_minor": 2
}
